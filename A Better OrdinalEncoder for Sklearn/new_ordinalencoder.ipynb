{
 "cells": [
  {
   "cell_type": "code",
   "execution_count": 1,
   "metadata": {},
   "outputs": [
    {
     "name": "stdout",
     "output_type": "stream",
     "text": [
      "0.21.3\n"
     ]
    }
   ],
   "source": [
    "import sklearn \n",
    "print(sklearn.__version__)"
   ]
  },
  {
   "cell_type": "code",
   "execution_count": 2,
   "metadata": {},
   "outputs": [],
   "source": [
    "# Load data\n",
    "import pandas as pd\n",
    "import numpy as np\n",
    "#Save the data and notebook in the same folder! \n",
    "data=pd.read_csv('transaction.csv')\n",
    " \n",
    "# identify categorical and continous features \n",
    "cat=['account_id','type','operation','bank']\n",
    "ordi=['date','k_symbol']\n",
    "conti=['amount','balance']"
   ]
  },
  {
   "cell_type": "code",
   "execution_count": 3,
   "metadata": {},
   "outputs": [],
   "source": [
    "# split data into training and testing set\n",
    "from sklearn.model_selection import train_test_split\n",
    "train, test = train_test_split(data,test_size=0.3) "
   ]
  },
  {
   "cell_type": "code",
   "execution_count": 4,
   "metadata": {},
   "outputs": [],
   "source": [
    "from sklearn.compose import ColumnTransformer\n",
    "from sklearn.preprocessing import OrdinalEncoder\n",
    "from sklearn.preprocessing import OneHotEncoder\n",
    "column_trans = ColumnTransformer(\n",
    "[('ohe', OneHotEncoder(dtype='int',handle_unknown='ignore'),cat),\n",
    " ('ord',OrdinalEncoder() , ordi)],\n",
    "remainder='passthrough')"
   ]
  },
  {
   "cell_type": "code",
   "execution_count": 5,
   "metadata": {},
   "outputs": [
    {
     "data": {
      "text/plain": [
       "<161325x3484 sparse matrix of type '<class 'numpy.float64'>'\n",
       "\twith 1253562 stored elements in Compressed Sparse Row format>"
      ]
     },
     "execution_count": 5,
     "metadata": {},
     "output_type": "execute_result"
    }
   ],
   "source": [
    "column_trans.fit_transform(train)"
   ]
  },
  {
   "cell_type": "code",
   "execution_count": 12,
   "metadata": {},
   "outputs": [],
   "source": [
    "#following code will raise value error, since testing set has unknown value!\n",
    "column_trans.transform(test)"
   ]
  },
  {
   "cell_type": "code",
   "execution_count": 16,
   "metadata": {},
   "outputs": [],
   "source": [
    "from sklearn.preprocessing._encoders import _BaseEncoder\n",
    "class new_OrdinalEncoder(_BaseEncoder):\n",
    "    def __init__(self,cat_index='all'):\n",
    "        self.dicts={}\n",
    "        # cate_index is the categorical feature index list\n",
    "        self.cat_index=cat_index\n",
    "     \n",
    "    def fit(self,df,*y):\n",
    "        if self.cat_index=='all':\n",
    "            self.cat_index=list(range(df.shape[1]))\n",
    "        for feat in self.cat_index:\n",
    "            dic=np.unique(df.iloc[:,feat])\n",
    "            dic=dict([(i,index) for index, i in enumerate(dic)])\n",
    "            self.dicts[feat]=dic\n",
    "             \n",
    "    def fit_transform(self,df,*y):\n",
    "        if self.cat_index=='all':\n",
    "            self.cat_index=list(range(df.shape[1]))\n",
    "        df_output=df.copy()\n",
    "        for feat in self.cat_index:\n",
    "            dic=np.unique(df.iloc[:,feat])\n",
    "            dic=dict([(i,index) for index, i in enumerate(dic)])\n",
    "            self.dicts[feat]=dic\n",
    "            df_output.iloc[:,feat]=df.iloc[:,feat].apply(lambda x: dic[x])\n",
    "        return df_output\n",
    "         \n",
    "    def transform(self,df):\n",
    "        df_output=df.copy()\n",
    "        for feat in self.cat_index:\n",
    "            dic=self.dicts[feat]\n",
    "            df_output.iloc[:,feat]=df.iloc[:,feat].apply(self.unknown_value,args=(dic,))\n",
    "        return df_output\n",
    "     \n",
    "    def unknown_value(self,value,dic): # It will set up a new interger for unknown values!\n",
    "        try:\n",
    "            return dic[value]\n",
    "        except:\n",
    "            return len(dic)"
   ]
  },
  {
   "cell_type": "code",
   "execution_count": 17,
   "metadata": {},
   "outputs": [],
   "source": [
    "#if using my new_ordinalencoder, it will not raise error anymore!\n",
    "column_trans = ColumnTransformer(\n",
    "[('ohe', OneHotEncoder(dtype='int',handle_unknown='ignore'),cat),\n",
    " ('ord',new_OrdinalEncoder() , ordi)],\n",
    "remainder='passthrough')"
   ]
  },
  {
   "cell_type": "code",
   "execution_count": 18,
   "metadata": {},
   "outputs": [
    {
     "data": {
      "text/plain": [
       "<161325x3484 sparse matrix of type '<class 'numpy.float64'>'\n",
       "\twith 1253562 stored elements in Compressed Sparse Row format>"
      ]
     },
     "execution_count": 18,
     "metadata": {},
     "output_type": "execute_result"
    }
   ],
   "source": [
    "column_trans.fit_transform(train)"
   ]
  },
  {
   "cell_type": "code",
   "execution_count": 19,
   "metadata": {},
   "outputs": [
    {
     "data": {
      "text/plain": [
       "<69140x3484 sparse matrix of type '<class 'numpy.float64'>'\n",
       "\twith 537339 stored elements in Compressed Sparse Row format>"
      ]
     },
     "execution_count": 19,
     "metadata": {},
     "output_type": "execute_result"
    }
   ],
   "source": [
    "column_trans.transform(test)"
   ]
  }
 ],
 "metadata": {
  "kernelspec": {
   "display_name": "Python 3",
   "language": "python",
   "name": "python3"
  },
  "language_info": {
   "codemirror_mode": {
    "name": "ipython",
    "version": 3
   },
   "file_extension": ".py",
   "mimetype": "text/x-python",
   "name": "python",
   "nbconvert_exporter": "python",
   "pygments_lexer": "ipython3",
   "version": "3.7.3"
  }
 },
 "nbformat": 4,
 "nbformat_minor": 2
}
