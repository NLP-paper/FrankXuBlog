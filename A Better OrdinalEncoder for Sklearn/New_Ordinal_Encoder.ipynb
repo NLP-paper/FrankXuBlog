{
 "cells": [
  {
   "cell_type": "code",
   "execution_count": 1,
   "metadata": {},
   "outputs": [
    {
     "data": {
      "text/plain": [
       "array([[1., 0.]])"
      ]
     },
     "execution_count": 1,
     "metadata": {},
     "output_type": "execute_result"
    }
   ],
   "source": [
    "# LabelEncoder can only convert one list at a time.\n",
    "from sklearn.preprocessing import LabelEncoder\n",
    "le=LabelEncoder()\n",
    "le.fit(['one','two','three'])  \n",
    "le.transform(['one','two','three']) \n",
    "\n",
    "# OrdinalEncoder is much powerful since it can apply on multiple features at one time.\n",
    "from sklearn.preprocessing import OrdinalEncoder\n",
    "oe=OrdinalEncoder()\n",
    "oe.fit([[1.0,'one'],[2.0,'two'],[3.0,'three']]) # pd.dataframe or np.array is also available \n",
    "oe.transform([[2.0,'one']])"
   ]
  },
  {
   "cell_type": "code",
   "execution_count": 2,
   "metadata": {},
   "outputs": [],
   "source": [
    "class new_OrdinalEncoder:\n",
    "    def __init__(self,cat_index='all'):\n",
    "        self.dicts={}\n",
    "        # cate_index is the categorical feature index list\n",
    "        self.cat_index=cat_index\n",
    "    \n",
    "    def __str__(self):\n",
    "        return 'New_OrdinalEncoder()'\n",
    "    \n",
    "    __repr__=__str__\n",
    "    \n",
    "    def fit(self,df,*y):\n",
    "        if self.cat_index=='all':\n",
    "            self.cat_index=list(range(df.shape[1]))\n",
    "        for feat in self.cat_index:\n",
    "            dic=np.unique(df.iloc[:,feat])\n",
    "            dic=dict([(i,index) for index, i in enumerate(dic)])\n",
    "            self.dicts[feat]=dic\n",
    "            \n",
    "    def fit_transform(self,df,*y):\n",
    "        if self.cat_index=='all':\n",
    "            self.cat_index=list(range(df.shape[1]))\n",
    "        df_output=df.copy()\n",
    "        for feat in self.cat_index:\n",
    "            dic=np.unique(df.iloc[:,feat])\n",
    "            dic=dict([(i,index) for index, i in enumerate(dic)])\n",
    "            self.dicts[feat]=dic\n",
    "            df_output.iloc[:,feat]=df.iloc[:,feat].apply(lambda x: dic[x])\n",
    "        return df_output\n",
    "        \n",
    "    def transform(self,df):\n",
    "        df_output=df.copy()\n",
    "        for feat in self.cat_index:\n",
    "            dic=self.dicts[feat]\n",
    "            df_output.iloc[:,feat]=df.iloc[:,feat].apply(self.unknown_value,args=(dic,))\n",
    "        return df_output\n",
    "    \n",
    "    def unknown_value(self,value,dic): # It will set up a new interger for unknown values!\n",
    "        try:\n",
    "            return dic[value]\n",
    "        except:\n",
    "            return len(dic)"
   ]
  },
  {
   "cell_type": "code",
   "execution_count": 3,
   "metadata": {},
   "outputs": [
    {
     "name": "stderr",
     "output_type": "stream",
     "text": [
      "D:\\anaconda3\\lib\\site-packages\\sklearn\\preprocessing\\_encoders.py:392: DeprecationWarning: The 'categorical_features' keyword is deprecated in version 0.20 and will be removed in 0.22. You can use the ColumnTransformer instead.\n",
      "  \"use the ColumnTransformer instead.\", DeprecationWarning)\n"
     ]
    },
    {
     "data": {
      "text/plain": [
       "<161325x4199 sparse matrix of type '<class 'numpy.float64'>'\n",
       "\twith 1290600 stored elements in COOrdinate format>"
      ]
     },
     "execution_count": 3,
     "metadata": {},
     "output_type": "execute_result"
    }
   ],
   "source": [
    "# Load data\n",
    "import pandas as pd\n",
    "import numpy as np\n",
    "#Save the data and notebook in the same folder! \n",
    "data=pd.read_csv('transaction.csv')\n",
    "\n",
    "# identify categorical and continous features \n",
    "cat=['account_id','date','type','operation','k_symbol','bank']\n",
    "conti=['amount','balance']\n",
    "\n",
    "# fit the OrdinalEncoder on entire dataset \n",
    "from sklearn.preprocessing import OrdinalEncoder\n",
    "oe=OrdinalEncoder()\n",
    "oe.fit(data[cat])\n",
    "\n",
    "# split data into training and testing set\n",
    "from sklearn.model_selection import train_test_split\n",
    "train, test = train_test_split(data,test_size=0.3,random_state=0)\n",
    "\n",
    "# convert training categorical features to numeric \n",
    "train_cat=oe.transform(train[cat])\n",
    "# concate categorical features and continous features for training set\n",
    "import numpy as np\n",
    "train_oe=np.append(train_cat,train[conti],axis=1)\n",
    "\n",
    "# apply onehotencoder on train_array\n",
    "from sklearn.preprocessing import OneHotEncoder\n",
    "# fit onehotencoder only on training set\n",
    "cat_index=[i for i in range(len(cat))]\n",
    "ohe=OneHotEncoder(handle_unknown='ignore',categorical_features=cat_index)\n",
    "train_ohe=ohe.fit_transform(train_oe)\n",
    "\n",
    "# Let's check the train_ohe\n",
    "train_ohe"
   ]
  },
  {
   "cell_type": "code",
   "execution_count": 4,
   "metadata": {},
   "outputs": [
    {
     "name": "stderr",
     "output_type": "stream",
     "text": [
      "D:\\anaconda3\\lib\\site-packages\\sklearn\\preprocessing\\_encoders.py:392: DeprecationWarning: The 'categorical_features' keyword is deprecated in version 0.20 and will be removed in 0.22. You can use the ColumnTransformer instead.\n",
      "  \"use the ColumnTransformer instead.\", DeprecationWarning)\n"
     ]
    }
   ],
   "source": [
    "# it is very easy to perform conversion\n",
    "cat_index=[0,1,2,3,6,7]# This is the categorical features index list\n",
    "new_oe=new_OrdinalEncoder()\n",
    "train_oe=new_oe.fit_transform(train,cat_index)\n",
    "ohe=OneHotEncoder(handle_unknown='ignore',categorical_features=cat_index)\n",
    "train_ohe=ohe.fit_transform(train_oe,cat_index)\n",
    "test_oe=new_oe.transform(test)\n",
    "test_ohe=ohe.transform(test_oe)"
   ]
  },
  {
   "cell_type": "code",
   "execution_count": 5,
   "metadata": {},
   "outputs": [
    {
     "data": {
      "text/plain": [
       "Pipeline(memory=None,\n",
       "     steps=[('new_ordianlencoder', New_OrdinalEncoder()), ('onehotencoder', OneHotEncoder(categorical_features=[0, 1, 2, 3, 6, 7], categories=None,\n",
       "       dtype=<class 'numpy.float64'>, handle_unknown='ignore',\n",
       "       n_values=None, sparse=True))])"
      ]
     },
     "execution_count": 5,
     "metadata": {},
     "output_type": "execute_result"
    }
   ],
   "source": [
    "from sklearn.pipeline import Pipeline\n",
    "estimators=[('new_ordianlencoder',new_OrdinalEncoder(cat_index)),('onehotencoder',OneHotEncoder(handle_unknown='ignore',categorical_features=cat_index))]\n",
    "pipe=Pipeline(estimators)\n",
    "pipe"
   ]
  },
  {
   "cell_type": "code",
   "execution_count": 6,
   "metadata": {},
   "outputs": [
    {
     "name": "stderr",
     "output_type": "stream",
     "text": [
      "D:\\anaconda3\\lib\\site-packages\\sklearn\\preprocessing\\_encoders.py:392: DeprecationWarning: The 'categorical_features' keyword is deprecated in version 0.20 and will be removed in 0.22. You can use the ColumnTransformer instead.\n",
      "  \"use the ColumnTransformer instead.\", DeprecationWarning)\n"
     ]
    },
    {
     "data": {
      "text/plain": [
       "Pipeline(memory=None,\n",
       "     steps=[('new_ordianlencoder', New_OrdinalEncoder()), ('onehotencoder', OneHotEncoder(categorical_features=[0, 1, 2, 3, 6, 7], categories=None,\n",
       "       dtype=<class 'numpy.float64'>, handle_unknown='ignore',\n",
       "       n_values=None, sparse=True))])"
      ]
     },
     "execution_count": 6,
     "metadata": {},
     "output_type": "execute_result"
    }
   ],
   "source": [
    "# apply fit on pipeline\n",
    "pipe.fit(train)"
   ]
  },
  {
   "cell_type": "code",
   "execution_count": 7,
   "metadata": {},
   "outputs": [
    {
     "data": {
      "text/plain": [
       "<69140x4199 sparse matrix of type '<class 'numpy.float64'>'\n",
       "\twith 553112 stored elements in COOrdinate format>"
      ]
     },
     "execution_count": 7,
     "metadata": {},
     "output_type": "execute_result"
    }
   ],
   "source": [
    "pipe.transform(test)"
   ]
  },
  {
   "cell_type": "code",
   "execution_count": 8,
   "metadata": {},
   "outputs": [],
   "source": [
    "# Do not use from sklearn.preprocessing import _BaseEncoder, it is protected class!\n",
    "from sklearn.preprocessing._encoders import _BaseEncoder\n",
    "class new_OrdinalEncoder(_BaseEncoder):\n",
    "    def __init__(self,cat_index='all'):\n",
    "        self.dicts={}\n",
    "        # cate_index is the categorical feature index list\n",
    "        self.cat_index=cat_index\n",
    "    \n",
    "    def fit(self,df,*y):\n",
    "        if self.cat_index=='all':\n",
    "            self.cat_index=list(range(df.shape[1]))\n",
    "        for feat in self.cat_index:\n",
    "            dic=np.unique(df.iloc[:,feat])\n",
    "            dic=dict([(i,index) for index, i in enumerate(dic)])\n",
    "            self.dicts[feat]=dic\n",
    "            \n",
    "    def fit_transform(self,df,*y):\n",
    "        if self.cat_index=='all':\n",
    "            self.cat_index=list(range(df.shape[1]))\n",
    "        df_output=df.copy()\n",
    "        for feat in self.cat_index:\n",
    "            dic=np.unique(df.iloc[:,feat])\n",
    "            dic=dict([(i,index) for index, i in enumerate(dic)])\n",
    "            self.dicts[feat]=dic\n",
    "            df_output.iloc[:,feat]=df.iloc[:,feat].apply(lambda x: dic[x])\n",
    "        return df_output\n",
    "        \n",
    "    def transform(self,df):\n",
    "        df_output=df.copy()\n",
    "        for feat in self.cat_index:\n",
    "            dic=self.dicts[feat]\n",
    "            df_output.iloc[:,feat]=df.iloc[:,feat].apply(self.unknown_value,args=(dic,))\n",
    "        return df_output\n",
    "    \n",
    "    def unknown_value(self,value,dic): # It will set up a new interger for unknown values!\n",
    "        try:\n",
    "            return dic[value]\n",
    "        except:\n",
    "            return len(dic)"
   ]
  },
  {
   "cell_type": "code",
   "execution_count": 9,
   "metadata": {},
   "outputs": [
    {
     "data": {
      "text/plain": [
       "Pipeline(memory=None,\n",
       "     steps=[('new_ordianlencoder', new_OrdinalEncoder(cat_index=[0, 1, 2, 3, 6, 7])), ('onehotencoder', OneHotEncoder(categorical_features=[0, 1, 2, 3, 6, 7], categories=None,\n",
       "       dtype=<class 'numpy.float64'>, handle_unknown='ignore',\n",
       "       n_values=None, sparse=True))])"
      ]
     },
     "execution_count": 9,
     "metadata": {},
     "output_type": "execute_result"
    }
   ],
   "source": [
    "from sklearn.pipeline import Pipeline\n",
    "estimators=[('new_ordianlencoder',new_OrdinalEncoder(cat_index)),('onehotencoder',OneHotEncoder(handle_unknown='ignore',categorical_features=cat_index))]\n",
    "pipe=Pipeline(estimators)\n",
    "pipe"
   ]
  },
  {
   "cell_type": "code",
   "execution_count": 10,
   "metadata": {},
   "outputs": [
    {
     "name": "stderr",
     "output_type": "stream",
     "text": [
      "D:\\anaconda3\\lib\\site-packages\\sklearn\\preprocessing\\_encoders.py:392: DeprecationWarning: The 'categorical_features' keyword is deprecated in version 0.20 and will be removed in 0.22. You can use the ColumnTransformer instead.\n",
      "  \"use the ColumnTransformer instead.\", DeprecationWarning)\n"
     ]
    },
    {
     "data": {
      "text/plain": [
       "Pipeline(memory=None,\n",
       "     steps=[('new_ordianlencoder', new_OrdinalEncoder(cat_index=[0, 1, 2, 3, 6, 7])), ('onehotencoder', OneHotEncoder(categorical_features=[0, 1, 2, 3, 6, 7], categories=None,\n",
       "       dtype=<class 'numpy.float64'>, handle_unknown='ignore',\n",
       "       n_values=None, sparse=True))])"
      ]
     },
     "execution_count": 10,
     "metadata": {},
     "output_type": "execute_result"
    }
   ],
   "source": [
    "# apply fit on pipeline\n",
    "pipe.fit(train)"
   ]
  },
  {
   "cell_type": "code",
   "execution_count": 11,
   "metadata": {},
   "outputs": [
    {
     "data": {
      "text/plain": [
       "<69140x4199 sparse matrix of type '<class 'numpy.float64'>'\n",
       "\twith 553112 stored elements in COOrdinate format>"
      ]
     },
     "execution_count": 11,
     "metadata": {},
     "output_type": "execute_result"
    }
   ],
   "source": [
    "pipe.transform(test)"
   ]
  }
 ],
 "metadata": {
  "kernelspec": {
   "display_name": "Python 3",
   "language": "python",
   "name": "python3"
  },
  "language_info": {
   "codemirror_mode": {
    "name": "ipython",
    "version": 3
   },
   "file_extension": ".py",
   "mimetype": "text/x-python",
   "name": "python",
   "nbconvert_exporter": "python",
   "pygments_lexer": "ipython3",
   "version": "3.7.3"
  }
 },
 "nbformat": 4,
 "nbformat_minor": 2
}
